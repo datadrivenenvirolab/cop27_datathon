{
 "cells": [
  {
   "cell_type": "markdown",
   "metadata": {},
   "source": [
    "<h1><center>COP27 Global Stocktake Climate Datathon</center></h1>"
   ]
  },
  {
   "cell_type": "markdown",
   "metadata": {},
   "source": [
    "**Exploratory Data Analysis:**\n",
    "\n",
    "The dataset provided for the West African Science Service Centre on Climate Change and\n",
    "Adapted Land Use (WASCAL) prompt contains primary climate data for three different basins in Western Africa. These are the Dano, Dassari and Vea-Sissili Basins. The temporal extent of the data varies for each location, summarised in the table below:\n",
    "\n",
    "| Location | Data available | Data Missing |\n",
    "| --- | --- | --- |\n",
    "| Dano Basin | 2013-2021 | 2016 |\n",
    "| Dassari Basin | 2015-2021 | 2019 |\n",
    "| Vea-Sissili Basin | 2012-2021 | - |\n",
    "\n"
   ]
  },
  {
   "cell_type": "markdown",
   "metadata": {},
   "source": [
    "**Missing Years**\n",
    "\n",
    "With the identification of missing years, we set our overall ambition to be the estimation of mean yearly values for each of the location's missing year.\n",
    "\n",
    "The first step taken to achieve this goal was filling the gaps identified within each dataset."
   ]
  },
  {
   "cell_type": "markdown",
   "metadata": {},
   "source": [
    "**Dano Basin**\n",
    "\n",
    "The 2021 dataset on the Dano Basin contains data from locations across the basin.\n",
    "As a sample dataset, the Dreyer Foundation data was explored. \n"
   ]
  },
  {
   "cell_type": "code",
   "execution_count": 23,
   "metadata": {},
   "outputs": [],
   "source": [
    "import pandas as pd\n",
    "import numpy as np\n",
    "import matplotlib.pyplot as plt\n",
    "from numpy import NaN\n"
   ]
  },
  {
   "cell_type": "code",
   "execution_count": 24,
   "metadata": {},
   "outputs": [],
   "source": [
    "# Read in data\n",
    "data = pd.read_excel('2021.xlsx')"
   ]
  },
  {
   "cell_type": "code",
   "execution_count": 25,
   "metadata": {},
   "outputs": [
    {
     "name": "stdout",
     "output_type": "stream",
     "text": [
      "('Rain_01_mm', 0.8483614247269116)\n",
      "('Rain_02_mm', 0.8277832024630541)\n",
      "('Air_Temp_Deg_C', 28.865296010388327)\n",
      "('Rel_H_%', 53.056108620788066)\n",
      "('Solar_R_W/m^2', 233.40796918227403)\n",
      "('Wind_Sp_m/sec', 1.4062672158101541)\n",
      "('Wind_Dir_Deg', 353.238784087369)\n"
     ]
    },
    {
     "data": {
      "text/html": [
       "<div>\n",
       "<style scoped>\n",
       "    .dataframe tbody tr th:only-of-type {\n",
       "        vertical-align: middle;\n",
       "    }\n",
       "\n",
       "    .dataframe tbody tr th {\n",
       "        vertical-align: top;\n",
       "    }\n",
       "\n",
       "    .dataframe thead th {\n",
       "        text-align: right;\n",
       "    }\n",
       "</style>\n",
       "<table border=\"1\" class=\"dataframe\">\n",
       "  <thead>\n",
       "    <tr style=\"text-align: right;\">\n",
       "      <th></th>\n",
       "      <th>Rain_01_mm</th>\n",
       "      <th>Rain_02_mm</th>\n",
       "      <th>Air_Temp_Deg_C</th>\n",
       "      <th>Rel_H_%</th>\n",
       "      <th>Solar_R_W/m^2</th>\n",
       "      <th>Wind_Sp_m/sec</th>\n",
       "      <th>Wind_Dir_Deg</th>\n",
       "    </tr>\n",
       "  </thead>\n",
       "  <tbody>\n",
       "    <tr>\n",
       "      <th>0</th>\n",
       "      <td>0.0</td>\n",
       "      <td>0.0</td>\n",
       "      <td>NaN</td>\n",
       "      <td>NaN</td>\n",
       "      <td>9.0</td>\n",
       "      <td>0.0</td>\n",
       "      <td>0.0</td>\n",
       "    </tr>\n",
       "    <tr>\n",
       "      <th>1</th>\n",
       "      <td>1.0</td>\n",
       "      <td>1.0</td>\n",
       "      <td>NaN</td>\n",
       "      <td>NaN</td>\n",
       "      <td>120.0</td>\n",
       "      <td>1.0</td>\n",
       "      <td>1.0</td>\n",
       "    </tr>\n",
       "    <tr>\n",
       "      <th>2</th>\n",
       "      <td>2.0</td>\n",
       "      <td>2.0</td>\n",
       "      <td>NaN</td>\n",
       "      <td>NaN</td>\n",
       "      <td>127.0</td>\n",
       "      <td>2.0</td>\n",
       "      <td>2.0</td>\n",
       "    </tr>\n",
       "    <tr>\n",
       "      <th>3</th>\n",
       "      <td>3.0</td>\n",
       "      <td>3.0</td>\n",
       "      <td>NaN</td>\n",
       "      <td>NaN</td>\n",
       "      <td>137.0</td>\n",
       "      <td>3.0</td>\n",
       "      <td>3.0</td>\n",
       "    </tr>\n",
       "    <tr>\n",
       "      <th>4</th>\n",
       "      <td>4.0</td>\n",
       "      <td>4.0</td>\n",
       "      <td>NaN</td>\n",
       "      <td>NaN</td>\n",
       "      <td>156.0</td>\n",
       "      <td>4.0</td>\n",
       "      <td>4.0</td>\n",
       "    </tr>\n",
       "    <tr>\n",
       "      <th>...</th>\n",
       "      <td>...</td>\n",
       "      <td>...</td>\n",
       "      <td>...</td>\n",
       "      <td>...</td>\n",
       "      <td>...</td>\n",
       "      <td>...</td>\n",
       "      <td>...</td>\n",
       "    </tr>\n",
       "    <tr>\n",
       "      <th>51547</th>\n",
       "      <td>52554.0</td>\n",
       "      <td>NaN</td>\n",
       "      <td>NaN</td>\n",
       "      <td>NaN</td>\n",
       "      <td>NaN</td>\n",
       "      <td>NaN</td>\n",
       "      <td>NaN</td>\n",
       "    </tr>\n",
       "    <tr>\n",
       "      <th>51548</th>\n",
       "      <td>52555.0</td>\n",
       "      <td>NaN</td>\n",
       "      <td>NaN</td>\n",
       "      <td>NaN</td>\n",
       "      <td>NaN</td>\n",
       "      <td>NaN</td>\n",
       "      <td>NaN</td>\n",
       "    </tr>\n",
       "    <tr>\n",
       "      <th>51549</th>\n",
       "      <td>52556.0</td>\n",
       "      <td>NaN</td>\n",
       "      <td>NaN</td>\n",
       "      <td>NaN</td>\n",
       "      <td>NaN</td>\n",
       "      <td>NaN</td>\n",
       "      <td>NaN</td>\n",
       "    </tr>\n",
       "    <tr>\n",
       "      <th>51550</th>\n",
       "      <td>52557.0</td>\n",
       "      <td>NaN</td>\n",
       "      <td>NaN</td>\n",
       "      <td>NaN</td>\n",
       "      <td>NaN</td>\n",
       "      <td>NaN</td>\n",
       "      <td>NaN</td>\n",
       "    </tr>\n",
       "    <tr>\n",
       "      <th>51551</th>\n",
       "      <td>52558.0</td>\n",
       "      <td>NaN</td>\n",
       "      <td>NaN</td>\n",
       "      <td>NaN</td>\n",
       "      <td>NaN</td>\n",
       "      <td>NaN</td>\n",
       "      <td>NaN</td>\n",
       "    </tr>\n",
       "  </tbody>\n",
       "</table>\n",
       "<p>51552 rows × 7 columns</p>\n",
       "</div>"
      ],
      "text/plain": [
       "       Rain_01_mm  Rain_02_mm  Air_Temp_Deg_C  Rel_H_%  Solar_R_W/m^2  \\\n",
       "0             0.0         0.0             NaN      NaN            9.0   \n",
       "1             1.0         1.0             NaN      NaN          120.0   \n",
       "2             2.0         2.0             NaN      NaN          127.0   \n",
       "3             3.0         3.0             NaN      NaN          137.0   \n",
       "4             4.0         4.0             NaN      NaN          156.0   \n",
       "...           ...         ...             ...      ...            ...   \n",
       "51547     52554.0         NaN             NaN      NaN            NaN   \n",
       "51548     52555.0         NaN             NaN      NaN            NaN   \n",
       "51549     52556.0         NaN             NaN      NaN            NaN   \n",
       "51550     52557.0         NaN             NaN      NaN            NaN   \n",
       "51551     52558.0         NaN             NaN      NaN            NaN   \n",
       "\n",
       "       Wind_Sp_m/sec  Wind_Dir_Deg  \n",
       "0                0.0           0.0  \n",
       "1                1.0           1.0  \n",
       "2                2.0           2.0  \n",
       "3                3.0           3.0  \n",
       "4                4.0           4.0  \n",
       "...              ...           ...  \n",
       "51547            NaN           NaN  \n",
       "51548            NaN           NaN  \n",
       "51549            NaN           NaN  \n",
       "51550            NaN           NaN  \n",
       "51551            NaN           NaN  \n",
       "\n",
       "[51552 rows x 7 columns]"
      ]
     },
     "metadata": {},
     "output_type": "display_data"
    }
   ],
   "source": [
    "# Explore and check for duplicates\n",
    "params  = list(data.columns)[5:]\n",
    "\n",
    "params\n",
    "\n",
    "averages = []\n",
    "\n",
    "def summarise(dataframe, dest):\n",
    "  # outputs average values for dataframe columns to destination dest\n",
    "\n",
    "  # ensure destination for list of averages is a list\n",
    "  if type(dest) != list:\n",
    "    raise Exception('destination must be list!')\n",
    " \n",
    "  #empty list for null values\n",
    "  nans = []\n",
    "\n",
    "  # browse through parameters using dataframe column names\n",
    "  params  = list(data.columns)[5:]\n",
    "  for i in range(len(params)):\n",
    "    var = params[i]\n",
    "    dat = list(data[var])\n",
    "    #print(dat)\n",
    "    if i > -1:\n",
    "      inds = [i for i, value in enumerate(dat) if value == 0]\n",
    "      nans.append(inds)\n",
    "      dat = [x for x in dat if x != 0]\n",
    "    avg = np.nanmean(dat)\n",
    "    values = (var, avg)\n",
    "    print(values)\n",
    "    dest.append(values)\n",
    "\n",
    "  dfNans = pd.DataFrame(nans).T\n",
    "  dfNans.columns = params\n",
    "  display(dfNans)\n",
    "  return dfNans\n",
    "\n",
    "df1 = summarise(data, averages)"
   ]
  },
  {
   "cell_type": "markdown",
   "metadata": {},
   "source": [
    "**Generating summary statistics for each of the parameters:**"
   ]
  },
  {
   "cell_type": "code",
   "execution_count": 26,
   "metadata": {},
   "outputs": [
    {
     "name": "stdout",
     "output_type": "stream",
     "text": [
      "count    52559.000000\n",
      "mean         0.016254\n",
      "std          0.278828\n",
      "min          0.000000\n",
      "25%          0.000000\n",
      "50%          0.000000\n",
      "75%          0.000000\n",
      "max         16.200000\n",
      "Name: Rain_01_mm, dtype: float64\n",
      "count    52559.000000\n",
      "mean         0.015986\n",
      "std          0.270896\n",
      "min          0.000000\n",
      "25%          0.000000\n",
      "50%          0.000000\n",
      "75%          0.000000\n",
      "max         16.100000\n",
      "Name: Rain_02_mm, dtype: float64\n",
      "count    52559.000000\n",
      "mean        28.865296\n",
      "std          6.657584\n",
      "min         17.778000\n",
      "25%         24.696595\n",
      "50%         27.980020\n",
      "75%         32.603190\n",
      "max       1009.360000\n",
      "Name: Air_Temp_Deg_C, dtype: float64\n",
      "count    52559.000000\n",
      "mean        53.056109\n",
      "std         31.546977\n",
      "min          4.136000\n",
      "25%         21.234000\n",
      "50%         54.056000\n",
      "75%         82.432000\n",
      "max         99.998000\n",
      "Name: Rel_H_%, dtype: float64\n",
      "count    52559.000000\n",
      "mean       224.104335\n",
      "std        306.116590\n",
      "min          0.000000\n",
      "25%          0.019078\n",
      "50%          3.317691\n",
      "75%        447.214850\n",
      "max       1198.742000\n",
      "Name: Solar_R_W/m^2, dtype: float64\n",
      "count    52559.000000\n",
      "mean         1.200487\n",
      "std          1.049145\n",
      "min          0.000000\n",
      "25%          0.266250\n",
      "50%          1.108750\n",
      "75%          1.768750\n",
      "max         14.135000\n",
      "Name: Wind_Sp_m/sec, dtype: float64\n",
      "count    35939.000000\n",
      "mean       277.645154\n",
      "std        144.922136\n",
      "min          0.000000\n",
      "25%        346.046100\n",
      "50%        354.302400\n",
      "75%        354.644800\n",
      "max        354.829000\n",
      "Name: Wind_Dir_Deg, dtype: float64\n"
     ]
    }
   ],
   "source": [
    "for i in params:\n",
    "    print(data[i].describe())"
   ]
  },
  {
   "cell_type": "markdown",
   "metadata": {},
   "source": [
    "**Examining the air temperature data:**"
   ]
  },
  {
   "cell_type": "code",
   "execution_count": 27,
   "metadata": {},
   "outputs": [
    {
     "data": {
      "text/plain": [
       "count    52559.000000\n",
       "mean        28.865296\n",
       "std          6.657584\n",
       "min         17.778000\n",
       "25%         24.696595\n",
       "50%         27.980020\n",
       "75%         32.603190\n",
       "max       1009.360000\n",
       "Name: Air_Temp_Deg_C, dtype: float64"
      ]
     },
     "execution_count": 27,
     "metadata": {},
     "output_type": "execute_result"
    }
   ],
   "source": [
    "# Summary statistics for the temperature data\n",
    "data['Air_Temp_Deg_C'].describe()"
   ]
  },
  {
   "cell_type": "markdown",
   "metadata": {},
   "source": [
    "The existence of a temperature reading of 1009 Degrees C indicate that invalid measurements of temperature exist within the dataset. These will need to be excluded from any regression/interpolation which follows, as they will have a significant impact on any created models."
   ]
  },
  {
   "cell_type": "markdown",
   "metadata": {},
   "source": [
    "To explore the pattern of temperatures across the year, the temperature at noon each day was isolated from the dataset."
   ]
  },
  {
   "cell_type": "code",
   "execution_count": 28,
   "metadata": {},
   "outputs": [],
   "source": [
    "# Data for noon each day\n",
    "interval_df = data[71::144]"
   ]
  },
  {
   "cell_type": "code",
   "execution_count": 29,
   "metadata": {},
   "outputs": [
    {
     "data": {
      "text/plain": [
       "71       36.18528\n",
       "215      37.03523\n",
       "359      36.45987\n",
       "503      36.54975\n",
       "647      35.19200\n",
       "           ...   \n",
       "51911    32.45955\n",
       "52055    32.27448\n",
       "52199    33.61762\n",
       "52343    32.96750\n",
       "52487    33.56270\n",
       "Name: Air_Temp_Deg_C, Length: 365, dtype: float64"
      ]
     },
     "execution_count": 29,
     "metadata": {},
     "output_type": "execute_result"
    }
   ],
   "source": [
    "# Isolating the temperature data for noon each day\n",
    "interval_df['Air_Temp_Deg_C']"
   ]
  },
  {
   "cell_type": "code",
   "execution_count": 30,
   "metadata": {},
   "outputs": [
    {
     "data": {
      "text/plain": [
       "Text(0, 0.5, 'Air temperature / Degrees Celcius')"
      ]
     },
     "execution_count": 30,
     "metadata": {},
     "output_type": "execute_result"
    },
    {
     "data": {
      "image/png": "[encoded data removed]",
      "text/plain": [
       "<Figure size 432x288 with 1 Axes>"
      ]
     },
     "metadata": {
      "needs_background": "light"
     },
     "output_type": "display_data"
    }
   ],
   "source": [
    "%matplotlib inline\n",
    "plt.scatter(interval_df.index ,interval_df['Air_Temp_Deg_C'])\n",
    "plt.xlabel(\"Measurement number\")\n",
    "plt.ylabel(\"Air temperature / Degrees Celcius\")\n"
   ]
  },
  {
   "cell_type": "markdown",
   "metadata": {},
   "source": [
    "The plot of air temperature against day appeared to show some sort of polynomial pattern. Perhaps indicating seasonal variation in temperature, with two warm seasons sandwhiching a cold season in which temperatures drop by approximately 10 degrees."
   ]
  },
  {
   "cell_type": "markdown",
   "metadata": {},
   "source": [
    "**Data Gap Filling with Linear Regression models:**\n",
    "\n",
    "In light of the apparent polynomial pattern, our first attempt at this involved the use of a polynomial regression, using Numpy's in-built functionality."
   ]
  },
  {
   "cell_type": "markdown",
   "metadata": {},
   "source": [
    "Attempting regression to generate a general model for the data:"
   ]
  },
  {
   "cell_type": "code",
   "execution_count": 31,
   "metadata": {},
   "outputs": [],
   "source": [
    "mymodel = np.poly1d(np.polyfit(interval_df.index ,interval_df['Air_Temp_Deg_C'], 3))"
   ]
  },
  {
   "cell_type": "code",
   "execution_count": 32,
   "metadata": {},
   "outputs": [],
   "source": [
    "myline = np.linspace(1, 53000, 100)"
   ]
  },
  {
   "cell_type": "code",
   "execution_count": 33,
   "metadata": {},
   "outputs": [
    {
     "data": {
      "image/png": "[encoded data removed]",
      "text/plain": [
       "<Figure size 432x288 with 1 Axes>"
      ]
     },
     "metadata": {
      "needs_background": "light"
     },
     "output_type": "display_data"
    }
   ],
   "source": [
    "plt.scatter(interval_df.index ,interval_df['Air_Temp_Deg_C'])\n",
    "plt.plot(myline, mymodel(myline))\n",
    "plt.xlabel(\"Measurement Number\")\n",
    "plt.ylabel(\"Air temperature / Degrees Celcius\")\n",
    "plt.show()"
   ]
  },
  {
   "cell_type": "markdown",
   "metadata": {},
   "source": [
    "Assessing the fit of the model:"
   ]
  },
  {
   "cell_type": "code",
   "execution_count": 34,
   "metadata": {},
   "outputs": [],
   "source": [
    "from sklearn.metrics import r2_score"
   ]
  },
  {
   "cell_type": "code",
   "execution_count": 35,
   "metadata": {},
   "outputs": [
    {
     "name": "stdout",
     "output_type": "stream",
     "text": [
      "0.3333070247415243\n"
     ]
    }
   ],
   "source": [
    "print(r2_score(interval_df['Air_Temp_Deg_C'], mymodel(interval_df.index)))"
   ]
  },
  {
   "cell_type": "markdown",
   "metadata": {},
   "source": [
    "The polynomial model calculated by NumPy yields a poor fit, shown by the above plot in which the curve does not represent the high variability of the data. Furthermore, the low R^2 value of approximately 0.33 indicates that only 33% of the variability in the data is explained by this model. This would therefore be a poor way to interpolate the data. "
   ]
  },
  {
   "cell_type": "markdown",
   "metadata": {},
   "source": [
    "**Interpolation**"
   ]
  },
  {
   "cell_type": "markdown",
   "metadata": {},
   "source": [
    "Acknowledging that the data is most likely too variable for a regression model to capture its intricacies adequately, we moved to a less general approach. Here, we calculate a rolling mean/moving average of the data."
   ]
  },
  {
   "cell_type": "markdown",
   "metadata": {},
   "source": [
    "**Data Gap Filling with Rolling Averages:**\n",
    "\n",
    "A rolling average function was then instead used to fill the data, written to incorporate a customisable time step, which was defaulted to five days.\n",
    "As some of the data contained outliers, a cleaning funciton which removed values more than three standard deviations from the mean, replacing them with null values, was applied to the data in order to prevent affecting the rolling average. This can also be used in subsequent data analysis steps to remove outliers. "
   ]
  },
  {
   "cell_type": "code",
   "execution_count": 36,
   "metadata": {},
   "outputs": [],
   "source": [
    " def clean(series):\n",
    "        #removal of outliers\n",
    "        UT = series.mean() + 3*series.std()\n",
    "        LT = series.mean() - 3*series.std()\n",
    "        cleandata = []\n",
    "        for val in series:\n",
    "            if LT <= val <= UT:\n",
    "                cleandata.append(float(val))\n",
    "            else:\n",
    "                cleandata.append(None)\n",
    "        return(cleandata)\n",
    "    \n",
    "def rolling_mean(df, series_name, time_step=5, plot=True):\n",
    "# obtains (and plots) rolling mean for given series in dataset for given time step, plotting if specified\n",
    "\n",
    "    dat = df # defining new dataframe for analysis\n",
    "    dat['data'] = df[series_name] #use given series name for data calculation, defining new column \n",
    "    dat['data'] = clean(dat.data) \n",
    "    \n",
    "    #normalises data in rolling interval based on time_step\n",
    "    dat['z_data'] =  (dat.data - dat.data.rolling(window=time_step).mean()) / dat.data.rolling(window=time_step).std()\n",
    "    \n",
    "    # new colimn, with standardized data, offset by time-step\n",
    "    dat['zp_data'] = dat['z_data'] - dat['z_data'].shift(time_step)\n",
    "    dat['rolmean'] = dat.data.rolling(window=time_step).mean()\n",
    "    \n",
    "    # function for plotting data\n",
    "    def plot_rolling(df, series_name, time_step):\n",
    "        df['data'] = df[series_name]\n",
    "\n",
    "        plt.plot(figsize=(12, 10))\n",
    "        \n",
    "        # plots raw data vs rolling mean and standard deviation\n",
    "        plt.plot(df.index, df.data, label='raw data')\n",
    "        plt.plot(df.data.rolling(window=time_step).mean(), label=\"rolling mean\");\n",
    "        plt.plot(df.data.rolling(window=time_step).std(), label=\"rolling std (x10)\");\n",
    "        plt.legend()\n",
    "        plt.title(series_name)\n",
    "\n",
    "        plt.tight_layout()\n",
    "        plt.show()\n",
    "\n",
    "    if plot is True: #plots data, if specified\n",
    "        plot_rolling(dat, series_name, time_step)\n",
    "    \n",
    "    return(dat['rolmean']) # returns dataframe with rolling mean and offset data"
   ]
  },
  {
   "cell_type": "markdown",
   "metadata": {},
   "source": [
    "*Testing the rolling mean model on air temperature data*"
   ]
  },
  {
   "cell_type": "code",
   "execution_count": 37,
   "metadata": {},
   "outputs": [
    {
     "data": {
      "text/plain": [
       "count    52559.000000\n",
       "mean        28.865296\n",
       "std          6.657584\n",
       "min         17.778000\n",
       "25%         24.696595\n",
       "50%         27.980020\n",
       "75%         32.603190\n",
       "max       1009.360000\n",
       "Name: Air_Temp_Deg_C, dtype: float64"
      ]
     },
     "execution_count": 37,
     "metadata": {},
     "output_type": "execute_result"
    }
   ],
   "source": [
    "data['Air_Temp_Deg_C'].describe()"
   ]
  },
  {
   "cell_type": "code",
   "execution_count": 38,
   "metadata": {},
   "outputs": [
    {
     "name": "stderr",
     "output_type": "stream",
     "text": [
      "C:\\Users\\GRAHAM~1\\AppData\\Local\\Temp/ipykernel_30412/3792877380.py:17: SettingWithCopyWarning: \n",
      "A value is trying to be set on a copy of a slice from a DataFrame.\n",
      "Try using .loc[row_indexer,col_indexer] = value instead\n",
      "\n",
      "See the caveats in the documentation: https://pandas.pydata.org/pandas-docs/stable/user_guide/indexing.html#returning-a-view-versus-a-copy\n",
      "  dat['data'] = df[series_name] #use given series name for data calculation, defining new column\n",
      "C:\\Users\\GRAHAM~1\\AppData\\Local\\Temp/ipykernel_30412/3792877380.py:18: SettingWithCopyWarning: \n",
      "A value is trying to be set on a copy of a slice from a DataFrame.\n",
      "Try using .loc[row_indexer,col_indexer] = value instead\n",
      "\n",
      "See the caveats in the documentation: https://pandas.pydata.org/pandas-docs/stable/user_guide/indexing.html#returning-a-view-versus-a-copy\n",
      "  dat['data'] = clean(dat.data)\n",
      "C:\\Users\\GRAHAM~1\\AppData\\Local\\Temp/ipykernel_30412/3792877380.py:21: SettingWithCopyWarning: \n",
      "A value is trying to be set on a copy of a slice from a DataFrame.\n",
      "Try using .loc[row_indexer,col_indexer] = value instead\n",
      "\n",
      "See the caveats in the documentation: https://pandas.pydata.org/pandas-docs/stable/user_guide/indexing.html#returning-a-view-versus-a-copy\n",
      "  dat['z_data'] =  (dat.data - dat.data.rolling(window=time_step).mean()) / dat.data.rolling(window=time_step).std()\n",
      "C:\\Users\\GRAHAM~1\\AppData\\Local\\Temp/ipykernel_30412/3792877380.py:24: SettingWithCopyWarning: \n",
      "A value is trying to be set on a copy of a slice from a DataFrame.\n",
      "Try using .loc[row_indexer,col_indexer] = value instead\n",
      "\n",
      "See the caveats in the documentation: https://pandas.pydata.org/pandas-docs/stable/user_guide/indexing.html#returning-a-view-versus-a-copy\n",
      "  dat['zp_data'] = dat['z_data'] - dat['z_data'].shift(time_step)\n",
      "C:\\Users\\GRAHAM~1\\AppData\\Local\\Temp/ipykernel_30412/3792877380.py:25: SettingWithCopyWarning: \n",
      "A value is trying to be set on a copy of a slice from a DataFrame.\n",
      "Try using .loc[row_indexer,col_indexer] = value instead\n",
      "\n",
      "See the caveats in the documentation: https://pandas.pydata.org/pandas-docs/stable/user_guide/indexing.html#returning-a-view-versus-a-copy\n",
      "  dat['rolmean'] = dat.data.rolling(window=time_step).mean()\n",
      "C:\\Users\\GRAHAM~1\\AppData\\Local\\Temp/ipykernel_30412/3792877380.py:29: SettingWithCopyWarning: \n",
      "A value is trying to be set on a copy of a slice from a DataFrame.\n",
      "Try using .loc[row_indexer,col_indexer] = value instead\n",
      "\n",
      "See the caveats in the documentation: https://pandas.pydata.org/pandas-docs/stable/user_guide/indexing.html#returning-a-view-versus-a-copy\n",
      "  df['data'] = df[series_name]\n"
     ]
    },
    {
     "data": {
      "image/png": "[encoded data removed]",
      "text/plain": [
       "<Figure size 432x288 with 1 Axes>"
      ]
     },
     "metadata": {
      "needs_background": "light"
     },
     "output_type": "display_data"
    }
   ],
   "source": [
    "AT_modelvals = rolling_mean(interval_df,'Air_Temp_Deg_C', time_step = 5, plot=True)"
   ]
  },
  {
   "cell_type": "markdown",
   "metadata": {},
   "source": [
    "The plot above shows that the rolling mean fits the data very well accross the board. We therefore proceed to replace missing data points with the current rolling average value. In the de-trended set, we can see gaps in the rolling de-trended mean which match the gaps in the dataset. \n",
    "The next step was to take the cleaned data and use it to identify outliers or null values in the set, and replacing these with the model values, to be compared to the original dataset.The two sets were then plotted below."
   ]
  },
  {
   "cell_type": "code",
   "execution_count": 39,
   "metadata": {},
   "outputs": [],
   "source": [
    "#finding indices of outlier values and replacing with model values \n",
    "clean_air = clean(interval_df['Air_Temp_Deg_C'])\n",
    "indices  = [index for (index, item) in enumerate(clean_air) if item is None]\n",
    "\n",
    "complete_air = list(interval_df['Air_Temp_Deg_C'])\n",
    "for index in indices: \n",
    "    complete_air[index] = list(AT_modelvals)[index] "
   ]
  },
  {
   "cell_type": "markdown",
   "metadata": {},
   "source": [
    "The next step is then to apply this procedure to each of the columns in the dataset which contain missing values. The code above can also be run using the indices for null values coming out of the \"summarise\" function. \n",
    "\n",
    "Due to illness and time constraints we were unable to complete the analysis for all stations in the dataset, but this preliminary exploration has shown that a simple model built from scratch can be used to fill gaps in daily noontime measurements for different meteorological parameters. The time_step parameter can be adjusted to fit different scales and granularities of data, and the choice to use functional progamming means this can relatively easily be integrated into more wide-ranging data analysis scripts, or looped through all the stations in the WASCAL dataset. "
   ]
  }
 ],
 "metadata": {
  "kernelspec": {
   "display_name": "Python 3",
   "language": "python",
   "name": "python3"
  },
  "language_info": {
   "codemirror_mode": {
    "name": "ipython",
    "version": 3
   },
   "file_extension": ".py",
   "mimetype": "text/x-python",
   "name": "python",
   "nbconvert_exporter": "python",
   "pygments_lexer": "ipython3",
   "version": "3.9.7"
  },
  "vscode": {
   "interpreter": {
    "hash": "e754e812676364086a3fa53de942383df610616e083ba48cbc01a005b080da4a"
   }
  }
 },
 "nbformat": 4,
 "nbformat_minor": 5
}
